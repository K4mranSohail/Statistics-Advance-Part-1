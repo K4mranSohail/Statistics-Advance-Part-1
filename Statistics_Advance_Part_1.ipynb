{
  "nbformat": 4,
  "nbformat_minor": 0,
  "metadata": {
    "colab": {
      "provenance": []
    },
    "kernelspec": {
      "name": "python3",
      "display_name": "Python 3"
    },
    "language_info": {
      "name": "python"
    }
  },
  "cells": [
    {
      "cell_type": "markdown",
      "source": [
        "# Statistics Advance Part 1"
      ],
      "metadata": {
        "id": "-45GT5dqoFHF"
      }
    },
    {
      "cell_type": "markdown",
      "source": [
        "Q1. What is a random variable in probability theory?\n",
        "\n",
        " - In probability theory, a random variable is a mathematical function that assigns numerical values to the outcomes of a random experiment. It provides a way to quantify uncertainty by mapping sample space outcomes to real numbers."
      ],
      "metadata": {
        "id": "lv6xP9hboRMi"
      }
    },
    {
      "cell_type": "markdown",
      "source": [
        "Q2. What are the types of random variables?\n",
        "\n",
        " - Random variables are classified into two main types:\n",
        "\n",
        "1. Discrete Random Variable\n",
        "\n",
        " - A random variable that takes a countable number of distinct values.\n",
        "\n",
        "      Example: The number of heads in 3 coin flips (values: 0, 1, 2, or 3).\n",
        "\n",
        " - Represented by a Probability Mass Function (PMF).\n",
        "\n",
        "      Example Distributions: Binomial, Poisson, Geometric.\n",
        "\n",
        "2. Continuous Random Variable\n",
        "\n",
        " - A random variable that takes an uncountable number of values (usually within an interval).\n",
        "\n",
        "     Example: The height of students in a class (can take any real value within a range).\n",
        "\n",
        " - Represented by a Probability Density Function (PDF).\n",
        "\n",
        "     Example Distributions: Normal, Exponential, Uniform."
      ],
      "metadata": {
        "id": "3I133NTqoenL"
      }
    },
    {
      "cell_type": "markdown",
      "source": [
        "Q3. What is the difference between discrete and continuous distributions?\n",
        "\n",
        " - A discrete distribution deals with countable outcomes, like the number of heads in coin flips, while a continuous distribution involves uncountable values, like a person’s height, where probabilities are assigned over intervals instead of exact points."
      ],
      "metadata": {
        "id": "cWOy9SZNo2wo"
      }
    },
    {
      "cell_type": "markdown",
      "source": [
        "Q4. What are probability distribution functions (PDF)?\n",
        "\n",
        " - A Probability Distribution Function (PDF) describes how probabilities are distributed over the values of a random variable."
      ],
      "metadata": {
        "id": "wBirC03cpSkt"
      }
    },
    {
      "cell_type": "markdown",
      "source": [
        "Q5. How do cumulative distribution functions (CDF) differ from probability distribution functions (PDF)?\n",
        "\n",
        " - The PDF (Probability Density Function) describes the likelihood of a random variable taking a specific value, while the CDF (Cumulative Distribution Function) gives the probability that the variable is less than or equal to a given value."
      ],
      "metadata": {
        "id": "x5AVN65XpeDa"
      }
    },
    {
      "cell_type": "markdown",
      "source": [
        "Q6. What is a discrete uniform distribution?\n",
        "\n",
        " - A discrete uniform distribution is a probability distribution where a finite number of outcomes are equally likely."
      ],
      "metadata": {
        "id": "LK3AYYxIpqkl"
      }
    },
    {
      "cell_type": "markdown",
      "source": [
        "Q7. What are the key properties of a Bernoulli distribution?\n",
        "\n",
        " - A Bernoulli distribution is a discrete probability distribution for a random variable that has only two possible outcomes, usually labeled as success (1) and failure (0)."
      ],
      "metadata": {
        "id": "alAAx69cp6J_"
      }
    },
    {
      "cell_type": "markdown",
      "source": [
        "Q8. What is the binomial distribution, and how is it used in probability?\n",
        "\n",
        " - A binomial distribution models the number of successes in a fixed number of independent Bernoulli trials, where each trial has only two possible outcomes: success (1) or failure (0).\n",
        "\n",
        " Applications in Probability\n",
        "\n",
        "Coin Tosses: Counting the number of heads in n flips.\n",
        "\n",
        "Quality Control: Checking defective items in a batch.\n",
        "\n",
        "Medical Studies: Probability of patients responding to a treatment.\n",
        "\n",
        "Marketing: Predicting the number of customers who buy a product after an ad campaign."
      ],
      "metadata": {
        "id": "XhCBy3RfqGGV"
      }
    },
    {
      "cell_type": "markdown",
      "source": [
        "Q9. What is the Poisson distribution and where is it applied?\n",
        "\n",
        " - The Poisson distribution models the number of times an event occurs in a fixed interval (time, space, or volume) when the events happen independently and at a constant average rate.\n",
        "\n",
        " Applications of Poisson Distribution\n",
        "\n",
        "Call Centers: Predicting the number of calls received per hour.\n",
        "\n",
        "Website Traffic: Estimating the number of visitors per minute.\n",
        "\n",
        "Biology: Counting bacteria in a given volume of liquid.\n",
        "\n",
        "Hospital Management: Number of patient arrivals in an emergency room per hour.\n",
        "\n",
        "Defects in Manufacturing: Number of defects per unit length of a fabric roll."
      ],
      "metadata": {
        "id": "miDxzptrqbIP"
      }
    },
    {
      "cell_type": "markdown",
      "source": [
        "Q10. What is a continuous uniform distribution?  \n",
        "\n",
        " - A continuous uniform distribution is a probability distribution where all values within a given range [𝑎,𝑏] are equally likely to occur. It is often called a rectangular distribution because its probability density function (PDF) forms a flat, constant shape."
      ],
      "metadata": {
        "id": "GWXzOaM-qnUw"
      }
    },
    {
      "cell_type": "markdown",
      "source": [
        "Q11. What are the characteristics of a normal distribution?\n",
        "\n",
        " - A normal distribution, also called a Gaussian distribution, is a continuous probability distribution that is symmetric and bell-shaped, describing many natural phenomena such as heights, weights, and test scores."
      ],
      "metadata": {
        "id": "tQoZBp4fq4u1"
      }
    },
    {
      "cell_type": "markdown",
      "source": [
        "Q12. What is the standard normal distribution, and why is it important?\n",
        "\n",
        " - The standard normal distribution is a special case of the normal distribution with:\n",
        "\n",
        "Mean (μ) = 0\n",
        "\n",
        "Standard deviation (σ) = 1"
      ],
      "metadata": {
        "id": "jBfSxhdFrAOL"
      }
    },
    {
      "cell_type": "markdown",
      "source": [
        "Q13. What is the Central Limit Theorem (CLT), and why is it critical in statistics?\n",
        "\n",
        " - The Central Limit Theorem (CLT) states that, regardless of the shape of the original population distribution, the sampling distribution of the sample mean approaches a normal distribution as the sample size increases (typically n≥30)."
      ],
      "metadata": {
        "id": "WCSCLzljrQ_-"
      }
    },
    {
      "cell_type": "markdown",
      "source": [
        "Q14. How does the Central Limit Theorem relate to the normal distribution?\n",
        "\n",
        " - The Central Limit Theorem (CLT) is directly linked to the normal distribution because it explains why normality naturally arises in statistics, even when the original data is not normally distributed."
      ],
      "metadata": {
        "id": "vDdOrnD9rd-V"
      }
    },
    {
      "cell_type": "markdown",
      "source": [
        "Q15. What is the application of Z statistics in hypothesis testing?\n",
        "\n",
        " - Applications of Z-Statistics in Hypothesis Testing\n",
        "\n",
        "🔹 One-Sample Z-Test: Used to compare a sample mean to a known population mean.\n",
        "\n",
        "Example: Checking if the average weight of a new batch of cereal boxes is 500g.\n",
        "\n",
        "🔹 Two-Sample Z-Test: Compares means from two independent samples.\n",
        "\n",
        "Example: Testing whether the average salary of male and female employees differs.\n",
        "\n",
        "🔹 Proportion Z-Test: Used to test if a sample proportion differs from a population proportion.\n",
        "\n",
        "Example: Determining if the proportion of customers preferring a new product is higher than 50%."
      ],
      "metadata": {
        "id": "TruOQhZUrl1h"
      }
    },
    {
      "cell_type": "markdown",
      "source": [
        "Q16. How do you calculate a Z-score, and what does it represent?\n",
        "\n",
        " - A Z-score (or standard score) measures how far a data point is from the mean, in terms of standard deviations. It helps compare individual values to a distribution and determine probabilities in hypothesis testing and normal distributions."
      ],
      "metadata": {
        "id": "DTUT8KlTr2lc"
      }
    },
    {
      "cell_type": "markdown",
      "source": [
        "Q17. What are point estimates and interval estimates in statistics?\n",
        "\n",
        " - 1. Point Estimate\n",
        "\n",
        "A point estimate is a single value used to approximate a population parameter. It is derived from a sample and is the best guess for the true population value.\n",
        "\n",
        "2. Interval Estimate (Confidence Interval)\n",
        "\n",
        "An interval estimate provides a range of values within which the true population parameter is likely to fall, along with a confidence level (e.g., 95%)."
      ],
      "metadata": {
        "id": "uvoc4ezgr-fy"
      }
    },
    {
      "cell_type": "markdown",
      "source": [
        "Q18. What is the significance of confidence intervals in statistical analysis?\n",
        "\n",
        " - A Confidence Interval (CI) provides a range of values that likely contains the true population parameter (e.g., mean or proportion) with a certain level of confidence (e.g., 95%).\n",
        "\n"
      ],
      "metadata": {
        "id": "Ry8j68LOsXiG"
      }
    },
    {
      "cell_type": "markdown",
      "source": [
        "Q19.  What is the relationship between a Z-score and a confidence interval?\n",
        "\n",
        " - A Z-score and a Confidence Interval (CI) are closely related because Z-scores determine the confidence interval's width in a normal distribution."
      ],
      "metadata": {
        "id": "zrtxOXj3sggk"
      }
    },
    {
      "cell_type": "markdown",
      "source": [
        "Q20.  How are Z-scores used to compare different distributions?\n",
        "\n",
        " - A Z-score (standard score) allows us to compare values from different distributions by standardizing them into a common scale. This is useful when two datasets have different means and standard deviations.\n",
        "\n"
      ],
      "metadata": {
        "id": "lr2-r0U-spRm"
      }
    },
    {
      "cell_type": "markdown",
      "source": [
        "Q21. What are the assumptions for applying the Central Limit Theorem?\n",
        "\n",
        " - The Central Limit Theorem (CLT) states that the sampling distribution of the sample mean approaches a normal distribution as the sample size increases, regardless of the population's original distribution. However, for CLT to hold, certain assumptions must be met:"
      ],
      "metadata": {
        "id": "fpnu2GPOsw0i"
      }
    },
    {
      "cell_type": "markdown",
      "source": [
        "Q22. What is the concept of expected value in a probability distribution?\n",
        "\n",
        " - The expected value (EV) of a probability distribution represents the long-term average or mean of a random variable if an experiment is repeated many times. It provides a measure of the center of the distribution."
      ],
      "metadata": {
        "id": "EYMXjjaqs5WB"
      }
    },
    {
      "cell_type": "markdown",
      "source": [
        "Q23. How does a probability distribution relate to the expected outcome of a random variable?\n",
        "\n",
        " - A probability distribution describes the possible values a random variable can take and the probabilities associated with those values. The expected outcome (expected value or mean) of a random variable is a weighted average of all possible values, where the weights are the probabilities from the distribution."
      ],
      "metadata": {
        "id": "NwZb3aTitGXU"
      }
    }
  ]
}